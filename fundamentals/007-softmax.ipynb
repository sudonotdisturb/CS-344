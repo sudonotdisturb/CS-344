{
 "cells": [
  {
   "cell_type": "markdown",
   "metadata": {},
   "source": [
    "# `007-softmax`\n",
    "\n",
    "Task: practice using the `softmax` function."
   ]
  },
  {
   "cell_type": "markdown",
   "metadata": {},
   "source": [
    "## Setup"
   ]
  },
  {
   "cell_type": "code",
   "execution_count": 1,
   "metadata": {},
   "outputs": [],
   "source": [
    "import torch\n",
    "from torch import tensor\n",
    "import matplotlib.pyplot as plt\n",
    "%matplotlib inline"
   ]
  },
  {
   "cell_type": "markdown",
   "metadata": {},
   "source": [
    "## Task"
   ]
  },
  {
   "cell_type": "markdown",
   "metadata": {},
   "source": [
    "Let's see how `softmax` behaves!\n",
    "\n",
    "Try this example: `x = tensor([1., 2., 3.])`\n",
    "\n",
    "1. Compare the result of `softmax(x)` with the result of `x.exp() / x.exp().sum()`. Are they close?\n",
    "2. What happens to the output of `softmax` when you give it `x + 1` instead of `x`? What happens if you add 100 instead? (Do this without changing `x`)\n",
    "3. *optional*: What happens to the output of `x.exp() / x.exp().sum()` when you add 1 to x? When you add 100? \n",
    "4. What happens when you multiply `x` by a constant like 0.5 or 3.0 before passing it to `softmax`? Compare this situation with the situation in question 2.\n",
    "\n",
    "**Note: you'll need to specify the axis: `torch.softmax(x, dim=0)`.**"
   ]
  },
  {
   "cell_type": "markdown",
   "metadata": {},
   "source": [
    "## Solution\n",
    "\n",
    "Add code and Markdown cells for each of the listed tasks above."
   ]
  },
  {
   "cell_type": "code",
   "execution_count": 2,
   "metadata": {},
   "outputs": [],
   "source": [
    "x = tensor([1., 2., 3.])"
   ]
  },
  {
   "cell_type": "markdown",
   "metadata": {},
   "source": [
    "### Problem 1"
   ]
  },
  {
   "cell_type": "code",
   "execution_count": 3,
   "metadata": {},
   "outputs": [
    {
     "data": {
      "text/plain": [
       "(tensor([0.0900, 0.2447, 0.6652]), tensor([0.0900, 0.2447, 0.6652]))"
      ]
     },
     "execution_count": 3,
     "metadata": {},
     "output_type": "execute_result"
    }
   ],
   "source": [
    "torch.softmax(x, dim=0), x.exp() / x.exp().sum()"
   ]
  },
  {
   "cell_type": "markdown",
   "metadata": {},
   "source": [
    "The two tensors contain the same values."
   ]
  },
  {
   "cell_type": "markdown",
   "metadata": {},
   "source": [
    "### Problem 2"
   ]
  },
  {
   "cell_type": "code",
   "execution_count": 4,
   "metadata": {},
   "outputs": [
    {
     "data": {
      "text/plain": [
       "(tensor([0.0900, 0.2447, 0.6652]), tensor([0.0900, 0.2447, 0.6652]))"
      ]
     },
     "execution_count": 4,
     "metadata": {},
     "output_type": "execute_result"
    }
   ],
   "source": [
    "torch.softmax(x + 1, dim=0), torch.softmax(x + 100, dim=0)"
   ]
  },
  {
   "cell_type": "markdown",
   "metadata": {},
   "source": [
    "The values in the resulting tensor from softmax do not change, regardless of whether 0, 1, or 100 is added to `x`."
   ]
  },
  {
   "cell_type": "markdown",
   "metadata": {},
   "source": [
    "### Problem 3"
   ]
  },
  {
   "cell_type": "code",
   "execution_count": 5,
   "metadata": {},
   "outputs": [
    {
     "data": {
      "text/plain": [
       "(tensor([0.0900, 0.2447, 0.6652]), tensor([nan, nan, nan]))"
      ]
     },
     "execution_count": 5,
     "metadata": {},
     "output_type": "execute_result"
    }
   ],
   "source": [
    "(x+1).exp() / (x+1).exp().sum(), (x+100).exp() / (x+100).exp().sum()"
   ]
  },
  {
   "cell_type": "markdown",
   "metadata": {},
   "source": [
    "It seems like for small values added to `x`, the values of the tensor remain the same. However, for large values (such as 100), the tensor contains `NaN` (undefined) values."
   ]
  },
  {
   "cell_type": "markdown",
   "metadata": {},
   "source": [
    "### Problem 4"
   ]
  },
  {
   "cell_type": "code",
   "execution_count": 6,
   "metadata": {},
   "outputs": [
    {
     "data": {
      "text/plain": [
       "(tensor([0.1863, 0.3072, 0.5065]), tensor([0.0024, 0.0473, 0.9503]))"
      ]
     },
     "execution_count": 6,
     "metadata": {},
     "output_type": "execute_result"
    }
   ],
   "source": [
    "torch.softmax(x * 0.5, dim=0), torch.softmax(x * 3.0, dim=0)"
   ]
  },
  {
   "cell_type": "markdown",
   "metadata": {},
   "source": [
    "If we multiply `x` by a constant before passing it to `softmax`, then the values within the resulting tensor change."
   ]
  },
  {
   "cell_type": "markdown",
   "metadata": {},
   "source": [
    "## Analysis"
   ]
  },
  {
   "cell_type": "code",
   "execution_count": 7,
   "metadata": {},
   "outputs": [
    {
     "data": {
      "text/plain": [
       "tensor([ 0., -1.])"
      ]
     },
     "execution_count": 7,
     "metadata": {},
     "output_type": "execute_result"
    }
   ],
   "source": [
    "x2 = tensor([1., 0.,])\n",
    "x3 = x2 - 1\n",
    "x3"
   ]
  },
  {
   "cell_type": "code",
   "execution_count": 8,
   "metadata": {},
   "outputs": [
    {
     "data": {
      "text/plain": [
       "tensor([2., 0.])"
      ]
     },
     "execution_count": 8,
     "metadata": {},
     "output_type": "execute_result"
    }
   ],
   "source": [
    "x4 = x2 * 2\n",
    "x4"
   ]
  },
  {
   "cell_type": "markdown",
   "metadata": {},
   "source": [
    "1. Are `softmax(x2)` and `softmax(x3)` the same or different? How could you tell without having to try it?\n",
    "2. Are `softmax(x2)` and `softmax(x4)` the same or different? How could you tell without having to try it?"
   ]
  },
  {
   "cell_type": "markdown",
   "metadata": {},
   "source": [
    "1. `softmax(x2)` and `softmax(x3)` are the same; as we saw from the \"Solution\" section above, adding a constant to `x` does not change the results from `softmax`.\n",
    "\n",
    "2. `softmax(x2)` and `softmax(x4)` are different; as we saw from the \"Solution\" section above, multiplying `x` by a constant changes the results of `softmax`."
   ]
  },
  {
   "cell_type": "markdown",
   "metadata": {},
   "source": [
    "## Extension *optional*\n",
    "\n",
    "1. Try to prove your observation in \\#2 by symbolically simplifying the expression `softmax(logits + c)` and seeing if you can get `softmax(logits)`. Remember that `softmax(x) = exp(x) / exp(x).sum()` and `exp(a + b) = exp(a)exp(b)`.\n",
    "\n",
    "2. Why does `exp(x + 100) / exp(x + 100).sum()` not work, while it does work for `torch.softmax`? Can you think of what `torch.softmax` might be doing to make sure that works?"
   ]
  },
  {
   "cell_type": "markdown",
   "metadata": {},
   "source": [
    "2. `torch.softmax` might be converting the values in x to the logarithmic scale before exponentiating them, since exponentiating a large number (x + 100) may result in values outside of the memory space. To prevent this, `softmax` may convert to the logarithmic scale, calculate the softmax for those values, then exponentiate the results to get back to the natural scale. "
   ]
  }
 ],
 "metadata": {
  "kernelspec": {
   "display_name": "Python 3",
   "language": "python",
   "name": "python3"
  },
  "language_info": {
   "codemirror_mode": {
    "name": "ipython",
    "version": 3
   },
   "file_extension": ".py",
   "mimetype": "text/x-python",
   "name": "python",
   "nbconvert_exporter": "python",
   "pygments_lexer": "ipython3",
   "version": "3.8.5"
  }
 },
 "nbformat": 4,
 "nbformat_minor": 4
}
