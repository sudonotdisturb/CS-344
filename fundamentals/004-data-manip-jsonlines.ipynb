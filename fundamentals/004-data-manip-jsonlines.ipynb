{
 "cells": [
  {
   "cell_type": "markdown",
   "metadata": {},
   "source": [
    "# `004-data-manip-jsonlines`\n",
    "\n",
    "Task: use list and dict comprehensions to work with data stored as newline-delimited JSON"
   ]
  },
  {
   "cell_type": "markdown",
   "metadata": {},
   "source": [
    "## Setup"
   ]
  },
  {
   "cell_type": "code",
   "execution_count": 1,
   "metadata": {},
   "outputs": [],
   "source": [
    "import json\n",
    "import requests\n",
    "from collections import Counter"
   ]
  },
  {
   "cell_type": "markdown",
   "metadata": {},
   "source": [
    "## Task"
   ]
  },
  {
   "cell_type": "markdown",
   "metadata": {},
   "source": [
    "As you discovered on Homework 1, preparing data is often a key and tedious component of model training. Here we'll practice a few basic data prep tasks. Large datasets often use streaming file formats like ndjson aka JSONL, so we'll practice with a (small) dataset in that format."
   ]
  },
  {
   "cell_type": "code",
   "execution_count": 2,
   "metadata": {},
   "outputs": [],
   "source": [
    "url = 'https://raw.githubusercontent.com/jsonlines/guide/master/datagov100.json'"
   ]
  },
  {
   "cell_type": "markdown",
   "metadata": {},
   "source": [
    "1. Load the data. Remove `tags` and `extras` as you read it in, since these are large data structures that we don't need. (You can use `del dct[key]` to remove a key from a dictionary.)\n",
    "1. What is the most common `license_title` for these datasets? (use `Counter`, imported above from the `collections` module, with a list comprehension). *you should get 'U.S. Government Work'*\n",
    "2. What is the average number of `resources` for each dataset? (use `len(dataset['resources'])` in a list comprehension. *you should get 1.36*\n",
    "3. Create a dictionary mapping the title of the dataset to the `url` of the first resource listed. (use a dict comprehension). Skip datasets with no resources. Use this dict to find the URL of `'Geologic map of Arkansas (NGMDB)'`."
   ]
  },
  {
   "cell_type": "markdown",
   "metadata": {},
   "source": [
    "## Solution"
   ]
  },
  {
   "cell_type": "code",
   "execution_count": 3,
   "metadata": {},
   "outputs": [],
   "source": [
    "# Load the data into a list of dictionaries\n",
    "data = []\n",
    "\n",
    "# Here's how to stream a JSONL from a URL one line at a time\n",
    "response = requests.get(url, stream=True)\n",
    "for line in response.iter_lines():\n",
    "    line = json.loads(line.decode('utf-8'))  # convert line from bytes to dictionary\n",
    "    del line['tags'], line['extras']\n",
    "    data.append(line)"
   ]
  },
  {
   "cell_type": "code",
   "execution_count": 4,
   "metadata": {},
   "outputs": [
    {
     "data": {
      "text/plain": [
       "Counter({'Creative Commons CCZero': 8,\n",
       "         'Other License Specified': 8,\n",
       "         'U.S. Government Work': 15,\n",
       "         None: 69})"
      ]
     },
     "execution_count": 4,
     "metadata": {},
     "output_type": "execute_result"
    }
   ],
   "source": [
    "# Grab license_title values \n",
    "license_title_values = [x['license_title'] for x in data]\n",
    "Counter(license_title_values)"
   ]
  },
  {
   "cell_type": "markdown",
   "metadata": {},
   "source": [
    "2. 'U.S. Government Work' is the most common `license title`."
   ]
  },
  {
   "cell_type": "code",
   "execution_count": 5,
   "metadata": {},
   "outputs": [
    {
     "data": {
      "text/plain": [
       "1.36"
      ]
     },
     "execution_count": 5,
     "metadata": {},
     "output_type": "execute_result"
    }
   ],
   "source": [
    "# Find average number of resources for each dataset\n",
    "resources_lengths = [len(x['resources']) for x in data]\n",
    "sum(resources_lengths) / len(resources_lengths)"
   ]
  },
  {
   "cell_type": "code",
   "execution_count": 6,
   "metadata": {},
   "outputs": [
    {
     "data": {
      "text/plain": [
       "'http://ngmdb.usgs.gov/Prodesc/proddesc_16308.htm'"
      ]
     },
     "execution_count": 6,
     "metadata": {},
     "output_type": "execute_result"
    }
   ],
   "source": [
    "name_and_url = {x['title']: x['resources'][0]['url'] for x in data if x['num_resources'] > 0}\n",
    "name_and_url['Geologic map of Arkansas (NGMDB)']"
   ]
  }
 ],
 "metadata": {
  "kernelspec": {
   "display_name": "Python 3",
   "language": "python",
   "name": "python3"
  },
  "language_info": {
   "codemirror_mode": {
    "name": "ipython",
    "version": 3
   },
   "file_extension": ".py",
   "mimetype": "text/x-python",
   "name": "python",
   "nbconvert_exporter": "python",
   "pygments_lexer": "ipython3",
   "version": "3.8.5"
  }
 },
 "nbformat": 4,
 "nbformat_minor": 4
}
