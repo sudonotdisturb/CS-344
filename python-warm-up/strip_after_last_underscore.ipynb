{
 "cells": [
  {
   "cell_type": "code",
   "execution_count": 3,
   "metadata": {},
   "outputs": [],
   "source": [
    "# Takes a string and returns that same string up until the last underscore\n",
    "def strip_after_last_underscore(stringArg):\n",
    "    underscoreIndex = stringArg.rfind('_')\n",
    "    return stringArg[0:underscoreIndex]"
   ]
  },
  {
   "cell_type": "code",
   "execution_count": 4,
   "metadata": {},
   "outputs": [
    {
     "data": {
      "text/plain": [
       "'ab'"
      ]
     },
     "execution_count": 4,
     "metadata": {},
     "output_type": "execute_result"
    }
   ],
   "source": [
    "# Test 1\n",
    "strip_after_last_underscore(\"ab_c.jpg\")"
   ]
  },
  {
   "cell_type": "code",
   "execution_count": 5,
   "metadata": {},
   "outputs": [
    {
     "data": {
      "text/plain": [
       "'ab_cd'"
      ]
     },
     "execution_count": 5,
     "metadata": {},
     "output_type": "execute_result"
    }
   ],
   "source": [
    "# Test 2\n",
    "strip_after_last_underscore(\"ab_cd_123.jpg\")"
   ]
  },
  {
   "cell_type": "code",
   "execution_count": 7,
   "metadata": {},
   "outputs": [
    {
     "name": "stdout",
     "output_type": "stream",
     "text": [
      "['a', 'b_q']\n"
     ]
    }
   ],
   "source": [
    "# Takes a list of strings and returns a new list containing the same strings up until the last underscore\n",
    "paths = ['a_b1.jpg', 'b_q_c2.jpg']\n",
    "stripped_paths = []\n",
    "for string in paths:\n",
    "    stripped_paths.append(strip_after_last_underscore(string))\n",
    "print(stripped_paths)"
   ]
  }
 ],
 "metadata": {
  "kernelspec": {
   "display_name": "Python 3",
   "language": "python",
   "name": "python3"
  },
  "language_info": {
   "codemirror_mode": {
    "name": "ipython",
    "version": 3
   },
   "file_extension": ".py",
   "mimetype": "text/x-python",
   "name": "python",
   "nbconvert_exporter": "python",
   "pygments_lexer": "ipython3",
   "version": "3.8.5"
  }
 },
 "nbformat": 4,
 "nbformat_minor": 4
}
